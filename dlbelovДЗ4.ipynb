{
 "cells": [
  {
   "cell_type": "markdown",
   "metadata": {},
   "source": [
    "### Большая часть задач требует операций с файлами, поэтому для воспроизводимости результатов работы вашего кода эти файлы нужно создавать\n",
    "\n",
    "### Можете их всех создавать в текущей папке, быстро и удобно это можно сделать таким способом:"
   ]
  },
  {
   "cell_type": "code",
   "execution_count": 1,
   "metadata": {
    "collapsed": false
   },
   "outputs": [],
   "source": [
    "text = \"\"\"123\n",
    "4567\n",
    " 8910\n",
    "\"\"\"\n",
    "with open('task_1.1_source', 'w') as f:\n",
    "    f.write(text)"
   ]
  },
  {
   "cell_type": "code",
   "execution_count": 2,
   "metadata": {
    "collapsed": false
   },
   "outputs": [
    {
     "name": "stdout",
     "output_type": "stream",
     "text": [
      "123\r\n",
      "4567\r\n",
      " 8910\r\n"
     ]
    }
   ],
   "source": [
    "!cat task_1.1_source"
   ]
  },
  {
   "cell_type": "markdown",
   "metadata": {},
   "source": [
    "# Базовый уровень"
   ]
  },
  {
   "cell_type": "markdown",
   "metadata": {},
   "source": [
    "## Задание 1.1\n",
    "\n",
    "Напишите функцию, копирующую файл\n",
    "\n",
    "source_path должен существовать, а отсутствующие промежуточные папки из target_path должны быть созданы\n",
    "\n",
    "Подсказка: можно прочитать исходный файл и записать в новый. \n",
    "\n",
    "Опциональное усложнение: попробуйте написать так, чтобы функция работала и с большими файлами (нужно, чтобы содежимое файла не считывалось полностью в память)"
   ]
  },
  {
   "cell_type": "code",
   "execution_count": 99,
   "metadata": {
    "collapsed": false
   },
   "outputs": [],
   "source": [
    "import os\n",
    "#подготовливаем демонстрационные пути и файлы\n",
    "if not os.path.exists('testdir_1_1'):\n",
    "    os.mkdir('testdir_1_1')\n",
    "text = \"\"\"123\n",
    "4567\n",
    "8910\n",
    "\"\"\"\n",
    "with open(os.path.join('testdir_1_1','task_1.1_source'), 'w') as f:\n",
    "    f.write(text)"
   ]
  },
  {
   "cell_type": "code",
   "execution_count": 100,
   "metadata": {
    "collapsed": false
   },
   "outputs": [],
   "source": [
    "import os\n",
    "def copy_file(source_path, target_path):\n",
    "    #проверяем наличие исходного файла(и пути) если нет прекращаем работу\n",
    "    if not os.path.exists(source_path):\n",
    "        return False\n",
    "    #проверяем наличие целевой папки, если нет создаем\n",
    "    if not os.path.exists(os.path.dirname(target_path)):\n",
    "        os.makedirs(os.path.dirname(target_path))\n",
    "#первый вариант с чтением содержимого в память    \n",
    "#    #читаем весь файл в массив\n",
    "#    with open(source_path,'r') as src:\n",
    "#        content = src.readlines()\n",
    "#    #пишем в целевой файл \n",
    "#    with open(target_path,'w') as trg:\n",
    "#        for line in content:\n",
    "#            trg.write(line)\n",
    "#второй вариант с построчичным копированием    \n",
    "    with open(source_path,'r') as src:\n",
    "        with open(target_path,'w') as trg:\n",
    "            for line in src:\n",
    "                trg.write(line)\n",
    "    return True"
   ]
  },
  {
   "cell_type": "code",
   "execution_count": 101,
   "metadata": {
    "collapsed": false
   },
   "outputs": [
    {
     "data": {
      "text/plain": [
       "True"
      ]
     },
     "execution_count": 101,
     "metadata": {},
     "output_type": "execute_result"
    }
   ],
   "source": [
    "#проверка                \n",
    "copy_file(os.path.join('testdir_1_1','task_1.1_source'), \n",
    "          os.path.join('testdir_1_1','testdir_1_1_sub','testdir_1_1_sub_sub','task_1.1_source'))"
   ]
  },
  {
   "cell_type": "markdown",
   "metadata": {},
   "source": [
    "## Задание 1.2\n",
    "\n",
    "##### В файле source_path находится англо-латинский словарь, то есть список слов на английском языке и их переводы на латинский язык (переводов может быть несколько). Необходимо создать из него латино-английский словарь по пути target_path. Например, из словаря\n",
    "\n",
    "\n",
    "\n",
    "apple - malum, pomum, popula\n",
    "\n",
    "fruit - baca, bacca, popum\n",
    "\n",
    "punishment - malum, multa\n",
    "\n",
    "\n",
    "\n",
    "##### нужно сделать словарь.\n",
    "\n",
    "baca - fruit\n",
    "\n",
    "bacca - fruit\n",
    "\n",
    "malum - apple, punishment\n",
    "\n",
    "multa - punishment\n",
    "\n",
    "pomum - apple\n",
    "\n",
    "popula - apple\n",
    "\n",
    "popum - fruit\n",
    "\n",
    "##### Не забудьте, что слова нужно расположить в алфавитном порядке.\n",
    "##### Будет полезна функция strip у строки для удаления пробелов\n"
   ]
  },
  {
   "cell_type": "code",
   "execution_count": 96,
   "metadata": {
    "collapsed": true
   },
   "outputs": [],
   "source": [
    "import os\n",
    "#подготовливаем демонстрационные пути и файлы\n",
    "if not os.path.exists('testdir_1_2'):\n",
    "    os.mkdir('testdir_1_2')\n",
    "text = \"\"\"apple - malum, pomum, popula\n",
    "fruit - baca, bacca, popum\n",
    "punishment - malum, multa\n",
    "\"\"\"\n",
    "with open(os.path.join('testdir_1_2','task_1.2_source'), 'w') as f:\n",
    "    f.write(text)"
   ]
  },
  {
   "cell_type": "code",
   "execution_count": 97,
   "metadata": {
    "collapsed": false
   },
   "outputs": [],
   "source": [
    "import os\n",
    "import re\n",
    "def eng_lat_2_lat_eng(source_path, target_path):\n",
    "    #проверяем наличие исходного файла(и пути) если нет прекращаем работу\n",
    "    if not os.path.exists(source_path):\n",
    "        return False\n",
    "    #проверяем наличие целевой папки, если нет создаем\n",
    "    if not os.path.exists(os.path.dirname(target_path)):\n",
    "        os.makedirs(os.path.dirname(target_path))\n",
    "    #готовим словарик для корректной обработки нескольких переводов одного слова\n",
    "    lat_dict = dict()\n",
    "    #открываем исходный файл для чтения\n",
    "    with open(source_path,'r') as src:\n",
    "        for line in src:\n",
    "            #для каждой строки исходного файла получаем список где первый элемент значение будущего словаря\n",
    "            #а все остальные элементы ключи \n",
    "            lst = map(str.strip, re.split('[-,]',line))\n",
    "            for elem in lst[1:]:\n",
    "                if not lat_dict.has_key(elem):\n",
    "                    #добавляем новый элемент в словарь ключ лат.слово значение анг.слово\n",
    "                    lat_dict[elem] = lst[0]\n",
    "                else:\n",
    "                    #добавляем меняем существующий элемент в словаре добавляем новое значение\n",
    "                    lat_dict[elem] = ', '.join([lat_dict[elem],lst[0]])\n",
    "        #открываем целевой файл для записи\n",
    "        with open(target_path,'w') as trg:\n",
    "            #берем каждый элемент списка полученного из сортированого по ключам словарю\n",
    "            for elem in sorted(lat_dict.items(), key=lambda item: item[0]):\n",
    "                #форматируем в заданном виде и пишем в целевой файл\n",
    "                trg.write(' - '.join(elem) + '\\n')\n",
    "    return True"
   ]
  },
  {
   "cell_type": "code",
   "execution_count": 98,
   "metadata": {
    "collapsed": false
   },
   "outputs": [
    {
     "data": {
      "text/plain": [
       "True"
      ]
     },
     "execution_count": 98,
     "metadata": {},
     "output_type": "execute_result"
    }
   ],
   "source": [
    "#проверка\n",
    "eng_lat_2_lat_eng(os.path.join('testdir_1_2','task_1.2_source'), \n",
    "                  os.path.join('testdir_1_2','task_1.2_target'))"
   ]
  },
  {
   "cell_type": "markdown",
   "metadata": {},
   "source": [
    "## Задание 1.3\n",
    "\n",
    "Напишите функцию, вычисляющую длину русского слова, независимо от его кодировки\n",
    "\n",
    "Если параметр encoding задан, то нужно декодировать текст при помощи этой кодировки. А если он не задан, то кодировку надо определить самостоятельно.\n",
    "\n",
    "##### Если кодировка не задана, то точное решение здесь написать не получится. Но можно воспользоваться функцией my_decoder из лекции"
   ]
  },
  {
   "cell_type": "code",
   "execution_count": 91,
   "metadata": {
    "collapsed": false
   },
   "outputs": [],
   "source": [
    "import chardet\n",
    "\n",
    "def my_len(word, encoding=None):\n",
    "    if type(word) is unicode: return len(word)\n",
    "    if encoding == None: encoding = chardet.detect(word)['encoding']\n",
    "    return len(word.decode(encoding))"
   ]
  },
  {
   "cell_type": "code",
   "execution_count": 92,
   "metadata": {
    "collapsed": false
   },
   "outputs": [
    {
     "data": {
      "text/plain": [
       "True"
      ]
     },
     "execution_count": 92,
     "metadata": {},
     "output_type": "execute_result"
    }
   ],
   "source": [
    "my_len('текст') == 5"
   ]
  },
  {
   "cell_type": "code",
   "execution_count": 93,
   "metadata": {
    "collapsed": false
   },
   "outputs": [
    {
     "data": {
      "text/plain": [
       "True"
      ]
     },
     "execution_count": 93,
     "metadata": {},
     "output_type": "execute_result"
    }
   ],
   "source": [
    "my_len(u'текст') == 5"
   ]
  },
  {
   "cell_type": "code",
   "execution_count": 94,
   "metadata": {
    "collapsed": false
   },
   "outputs": [
    {
     "data": {
      "text/plain": [
       "True"
      ]
     },
     "execution_count": 94,
     "metadata": {},
     "output_type": "execute_result"
    }
   ],
   "source": [
    "my_len(u'ааааа'.encode('utf_16'), encoding='utf_16') == 5"
   ]
  },
  {
   "cell_type": "code",
   "execution_count": 95,
   "metadata": {
    "collapsed": false
   },
   "outputs": [
    {
     "data": {
      "text/plain": [
       "True"
      ]
     },
     "execution_count": 95,
     "metadata": {},
     "output_type": "execute_result"
    }
   ],
   "source": [
    "my_len(u'текст'.encode('windows-1251')) == 5"
   ]
  },
  {
   "cell_type": "markdown",
   "metadata": {},
   "source": [
    "# Продвинутый уровень"
   ]
  },
  {
   "cell_type": "markdown",
   "metadata": {},
   "source": [
    "## Задание 2.1\n",
    "\n",
    "Напишите функцию, которая выписывает список файлов в данной директории и сортирует их в соответствии с их размером. Функция должна получать путь к директории в качестве аргумента и печатать на экран имена всех файлов в ней и их размеры, причем первыми должны идти файлы с наибольшими размерами, а в случае одинакового размер файлы сортируются по алфавиту.\n",
    "\n",
    "##### Указание. Изучите функции listdir и stat из модуля os и функции isfile и join из модуля os.path.\n"
   ]
  },
  {
   "cell_type": "code",
   "execution_count": 88,
   "metadata": {
    "collapsed": false
   },
   "outputs": [],
   "source": [
    "import os\n",
    "#подготовливаем демонстрационные пути и файлы\n",
    "if not os.path.exists('testdir_2_1'):\n",
    "    os.mkdir('testdir_2_1')\n",
    "\n",
    "if not os.path.exists(os.path.join('testdir_2_1','taskdir_2_1_sub1')):\n",
    "    os.makedirs(os.path.join('testdir_2_1','taskdir_2_1_sub1'))\n",
    "if not os.path.exists(os.path.join('testdir_2_1','taskdir_2_1_sub2')):\n",
    "    os.makedirs(os.path.join('testdir_2_1','taskdir_2_1_sub2'))\n",
    "\n",
    "text = \"\"\"111\n",
    "\"\"\"\n",
    "with open(os.path.join('testdir_2_1','bb.txt'), 'w') as f:\n",
    "    f.write(text)\n",
    "    \n",
    "text = \"\"\"222\n",
    "\"\"\"\n",
    "with open(os.path.join('testdir_2_1','zz.txt'), 'w') as f:\n",
    "    f.write(text)\n",
    "    \n",
    "text = \"\"\"222\n",
    "\"\"\"\n",
    "with open(os.path.join('testdir_2_1','cc.txt'), 'w') as f:\n",
    "    f.write(text)\n",
    "    \n",
    "text = \"\"\"222\n",
    "333\n",
    "\"\"\"\n",
    "with open(os.path.join('testdir_2_1','dd.txt'), 'w') as f:\n",
    "    f.write(text)\n",
    "\n",
    "text = \"\"\"4\n",
    "\"\"\"\n",
    "with open(os.path.join('testdir_2_1','aa.txt'), 'w') as f:\n",
    "    f.write(text)\n",
    "    \n",
    "text = \"\"\"222\n",
    "333\n",
    "444\n",
    "\"\"\"\n",
    "with open(os.path.join('testdir_2_1','ee.txt'), 'w') as f:\n",
    "    f.write(text)"
   ]
  },
  {
   "cell_type": "code",
   "execution_count": 89,
   "metadata": {
    "collapsed": false
   },
   "outputs": [],
   "source": [
    "import os\n",
    "\n",
    "#простая версия без дополнительной сортировке по имени файлов одинакового размера\n",
    "def get_dir_content_info_smpl(dir_path):\n",
    "    #проверяем наличие исходного файла(и пути) если нет прекращаем работу\n",
    "    if not os.path.exists(dir_path):\n",
    "        return False\n",
    "    #спиок всех объектов в папке \n",
    "    #map(lambda x: os.path.join(dir_path,x), os.listdir(dir_path))\n",
    "    #спиок файлов в папке \n",
    "    #[fl for fl in map(lambda x: os.path.join(dir_path,x), os.listdir(dir_path)) if os.path.isfile(fl)]\n",
    "    #список пар имя, размер только для файлов в указанной папке\n",
    "    lst = [ (os.path.basename(fl), os.stat(fl).st_size) \n",
    "           for fl in map(lambda x: os.path.join(dir_path,x), os.listdir(dir_path)) if os.path.isfile(fl) ]\n",
    "    #вывод отортированного по разеру списка файл-разер\n",
    "    for x, y in sorted(lst, key=lambda (x,y):y, reverse=True): print x+'\\t'+str(y)\n",
    "    return True\n",
    "\n",
    "#простая версия так же работает т.к. listdir возвращает отсортированный список\n",
    "#но, нет гарантии что listdir вернет именно отсортированный список и нет гарантии\n",
    "#что реализация sorted при повторной сортировке не собъет первую\n",
    "#поэтому реализуем сортировку имен файлов одного размера в ручную\n",
    "def get_dir_content_info(dir_path):\n",
    "    #проверяем наличе исходного файла(и пути) если нет прекращаем работу\n",
    "    if not os.path.exists(dir_path):\n",
    "        return False\n",
    "    #список пар имя, размер только для файлов в указанной папке\n",
    "    lst = [ (os.path.basename(fl), os.stat(fl).st_size) \n",
    "           for fl in map(lambda x: os.path.join(dir_path,x), os.listdir(dir_path)) if os.path.isfile(fl) ]\n",
    "    #создаем словарь для последующей гарантированной сортировки имен файлов одного размера\n",
    "    dct = dict()\n",
    "    for x, y in lst:\n",
    "        if not dct.has_key(y):\n",
    "            dct[y] = x\n",
    "        else:\n",
    "            dct[y] = dct[y]+':'+x\n",
    "    #сортировка по ключам(размеру файла)\n",
    "    for x in sorted(dct.keys(), reverse=True):\n",
    "        #сортировка по значению(имени файла)\n",
    "        for y in sorted(dct[x].split(\":\")):\n",
    "            print y+'\\t'+str(x)\n",
    "    return True"
   ]
  },
  {
   "cell_type": "code",
   "execution_count": 90,
   "metadata": {
    "collapsed": false
   },
   "outputs": [
    {
     "name": "stdout",
     "output_type": "stream",
     "text": [
      "ee.txt\t15\n",
      "dd.txt\t10\n",
      "bb.txt\t5\n",
      "cc.txt\t5\n",
      "zz.txt\t5\n",
      "aa.txt\t3\n"
     ]
    },
    {
     "data": {
      "text/plain": [
       "True"
      ]
     },
     "execution_count": 90,
     "metadata": {},
     "output_type": "execute_result"
    }
   ],
   "source": [
    "#проверка\n",
    "#get_dir_content_info_smpl('testdir_2_1')\n",
    "get_dir_content_info('testdir_2_1')"
   ]
  },
  {
   "cell_type": "markdown",
   "metadata": {},
   "source": [
    "## Задание 2.2\n",
    "\n",
    "Аналогично 1.2, но только теперь англо-русский в русско-английский словарь. Дополнительно теперь будет ещё параметр encoding для кодировки файлов. Если он None, то нужно самостоятельно определить кодировку файла.\n",
    "\n",
    "##### Решение будет почти дублировать 1.2, но сначала текст нужно привести в unicode"
   ]
  },
  {
   "cell_type": "code",
   "execution_count": 335,
   "metadata": {
    "collapsed": false
   },
   "outputs": [],
   "source": [
    "import os\n",
    "#подготовливаем демонстрационные пути и файлы\n",
    "if not os.path.exists('testdir_2_2'):\n",
    "    os.mkdir('testdir_2_2')\n",
    "text = [\n",
    "u'way - дорога, путь, судьба\\n',\n",
    "u'path - путь, тропа, траектория\\n',\n",
    "u'destiny - судьба, рок\\n'\n",
    "]\n",
    "with open(os.path.join('testdir_2_2','task_2_2_source_win.txt'), 'w') as f:\n",
    "    for i in range(0,len(text)): f.write(text[i].encode('windows-1251'))\n",
    "with open(os.path.join('testdir_2_2','task_2_2_source_utf.txt'), 'w') as f:\n",
    "    for i in range(0,len(text)): f.write(text[i].encode('utf-8'))"
   ]
  },
  {
   "cell_type": "code",
   "execution_count": 82,
   "metadata": {
    "collapsed": false
   },
   "outputs": [],
   "source": [
    "import os\n",
    "import chardet\n",
    "import string\n",
    "\n",
    "def eng_rus_2_rus_eng(source_path, target_path, encoding=None):\n",
    "    #проверяем наличие исходного файла(и пути) если нет прекращаем работу\n",
    "    if not os.path.exists(source_path):\n",
    "        return False\n",
    "    #проверяем наличие целевой папки, если нет создаем\n",
    "    if not os.path.exists(os.path.dirname(target_path)):\n",
    "        os.makedirs(os.path.dirname(target_path))\n",
    "    #готовим словарик для корректной обработки нескольких переводов одного слова\n",
    "    ru_dict = dict()\n",
    "    #если кодировка не задана пытаемся ее определить\n",
    "    if encoding == None: \n",
    "        with open(source_path,'r') as src:\n",
    "            encoding = chardet.detect(src.read())['encoding']\n",
    "    #открываем исходный файл для чтения\n",
    "    with open(source_path,'r') as src:\n",
    "        for line in src:\n",
    "            #получаем строку в типе unicode\n",
    "            ln = unicode(line, encoding=encoding)\n",
    "            #для каждой строки исходного файла получаем список где первый элемент значение будущего словаря\n",
    "            #а все остальные элементы ключи \n",
    "            enwrd  = ln.split('-')[0].strip()\n",
    "            ruwrds = ln.split('-')[1].strip()\n",
    "            #получаем массив ключей\n",
    "            ruwrd = ruwrds.split(',')\n",
    "            for wrd in ruwrd:\n",
    "                swrd = wrd.strip()\n",
    "                if swrd not in ru_dict:\n",
    "                    #добавляем новый элемент в словарь ключ рус.слово значение анг.слово\n",
    "                    ru_dict[swrd] = enwrd\n",
    "                else:\n",
    "                    #меняем существующий элемент в словаре, добавляем новое значение\n",
    "                    ru_dict[swrd] += ', '+enwrd\n",
    "        #открываем целевой файл для записи\n",
    "        with open(target_path,'w') as trg:\n",
    "            #берем каждый элемент списка полученного из сортированого по ключам словарю\n",
    "            for elem in sorted(ru_dict.items(), key=lambda item: item[0]):\n",
    "                #формируем строку для нового файла\n",
    "                newstr = elem[0]+' - '+elem[1]+'\\n'\n",
    "                #записываем в нужной кодировке\n",
    "                trg.write(newstr.encode(encoding))\n",
    "    return True    "
   ]
  },
  {
   "cell_type": "code",
   "execution_count": 83,
   "metadata": {
    "collapsed": false
   },
   "outputs": [
    {
     "data": {
      "text/plain": [
       "True"
      ]
     },
     "execution_count": 83,
     "metadata": {},
     "output_type": "execute_result"
    }
   ],
   "source": [
    "eng_rus_2_rus_eng(os.path.join('testdir_2_2','task_2_2_source_win.txt'), \n",
    "                  os.path.join('testdir_2_2','task_2_2_target_win.txt'),'windows-1251')"
   ]
  },
  {
   "cell_type": "code",
   "execution_count": 84,
   "metadata": {
    "collapsed": false
   },
   "outputs": [
    {
     "data": {
      "text/plain": [
       "True"
      ]
     },
     "execution_count": 84,
     "metadata": {},
     "output_type": "execute_result"
    }
   ],
   "source": [
    "eng_rus_2_rus_eng(os.path.join('testdir_2_2','task_2_2_source_utf.txt'), \n",
    "                  os.path.join('testdir_2_2','task_2_2_target_utf.txt'),'utf-8')"
   ]
  },
  {
   "cell_type": "code",
   "execution_count": 85,
   "metadata": {
    "collapsed": false
   },
   "outputs": [
    {
     "data": {
      "text/plain": [
       "True"
      ]
     },
     "execution_count": 85,
     "metadata": {},
     "output_type": "execute_result"
    }
   ],
   "source": [
    "eng_rus_2_rus_eng(os.path.join('testdir_2_2','task_2_2_source_win.txt'), \n",
    "                  os.path.join('testdir_2_2','task_2_2_target_win.txt'))"
   ]
  },
  {
   "cell_type": "code",
   "execution_count": 86,
   "metadata": {
    "collapsed": false
   },
   "outputs": [
    {
     "data": {
      "text/plain": [
       "True"
      ]
     },
     "execution_count": 86,
     "metadata": {},
     "output_type": "execute_result"
    }
   ],
   "source": [
    "eng_rus_2_rus_eng(os.path.join('testdir_2_2','task_2_2_source_utf.txt'), \n",
    "                  os.path.join('testdir_2_2','task_2_2_target_utf.txt'))"
   ]
  },
  {
   "cell_type": "markdown",
   "metadata": {},
   "source": [
    "# Сложный уровень"
   ]
  },
  {
   "cell_type": "markdown",
   "metadata": {},
   "source": [
    "## Задание 3.1\n",
    "\n",
    "Существует исследование, говорящее о том, что в словах текста можно произвольно переставить буквы (не затрагивая первую и последнюю), и от этого читабельность текста практически не ухудшится. Напишите функцию для проверки этого факта. Ваша функция должна получать на вход какой-нибудь текст (может быть и на русском языке) и переставлять буквы в его словах случайным образом. \n",
    "\n",
    "Если seed None, то буквы переставляются не случайным образом, а сортируются по алфавиту (латинские символы считаем меньше кириллических). Если seed не None, то нужно использовать это seed при инициализации рандома. Сравните результаты.\n",
    "\n",
    "##### будем считать, что текст это последовательность кириллических и латинских символов разделённая пробелом\n",
    "##### вам потребуется модуль random и функции random.seed и random.shuffle\n",
    "##### проверьте результат работы на не юникодовских строчках и объясните результат"
   ]
  },
  {
   "cell_type": "code",
   "execution_count": 80,
   "metadata": {
    "collapsed": false
   },
   "outputs": [],
   "source": [
    "import random\n",
    "\n",
    "def text_shuffle(text, seed=None):\n",
    "    #для перекодировки если не юникод, юникод нужен для посимвольной обработки кириллицы\n",
    "    txt = text if type(text) is unicode else unicode(text, encoding='utf-8')\n",
    "    #результат\n",
    "    trgtxt = u''\n",
    "    #делим текст на слова\n",
    "    for wrd in txt.split(' '):\n",
    "        if len(wrd)>3:\n",
    "            #если букв меньше 3 нужно мешать буквы: добавляем первую букву\n",
    "            trgtxt += u' '+wrd[0]\n",
    "            if seed == None:\n",
    "                #сортируем отрезок wrd[1:-1] по алфавиту и добавляем в результат\n",
    "                for i in sorted(wrd[1:-1]): trgtxt += i\n",
    "            else:\n",
    "                random.seed(seed)\n",
    "                #получаем массив перемешанных индексов от 1 до len(wrd)-2\n",
    "                lst = range(1,len(wrd)-1)\n",
    "                random.shuffle(lst)\n",
    "                #добавляем к результату в полученном случайном порядке\n",
    "                for i in lst: trgtxt += wrd[i]\n",
    "            #добавляем к результату последнюю букву\n",
    "            trgtxt += wrd[-1]\n",
    "        else:\n",
    "            #если букв меньше 3 добавляем слово в результат слово без изменений\n",
    "            trgtxt += u' ' + wrd\n",
    "    #возвращаем результат без первого пробела который всегда будет согласно алгоритму        \n",
    "    return trgtxt.strip()"
   ]
  },
  {
   "cell_type": "code",
   "execution_count": 81,
   "metadata": {
    "collapsed": false
   },
   "outputs": [
    {
     "name": "stdout",
     "output_type": "stream",
     "text": [
      "Return a copy of the string with leading and trailing characters removed\n",
      "Rertun a copy of the sinrtg with ladeing and taiilnrg caacehrrts reemovd\n",
      "Rrtuen a cpoy of the snritg wtih landieg and tainlirg chraerctas rmeoved\n",
      "Rrtuen a cpoy of the snritg wtih landieg and tainlirg chraerctas rmeoved\n",
      "Rteurn a copy of the srting with ladeing and tialring ccarathers rmoeved\n",
      "===========================================\n",
      "Существует исследование говорящее о том что в словах текста можно произвольно переставить буквы\n",
      "Свеестуущт иавдеилноссе гвеоорщяе о том что в савлох текста мжноо пвзилноорьо павееирстть бвкуы\n",
      "Суесуетвщт инседоливасе гоеяврщое о том что в саовлх ттксеа мнжоо првзьинолоо петсиетаврь бвкуы\n",
      "Суесуетвщт инседоливасе гоеяврщое о том что в саовлх ттксеа мнжоо првзьинолоо петсиетаврь бвкуы\n",
      "Сетувуесщт исоавсенидле гщояоерве о том что в сваолх тсткеа мнжоо плоьрознвио пвриеасттеь бвкуы\n",
      "===========================================\n",
      "Сzущеqствуеwт исследование говорящее о том что в словах текста можно произвольно переставить буквы\n",
      "Сqwzвеестуущт иавдеилноссе гвеоорщяе о том что в савлох текста мжноо пвзилноорьо павееирстть бвкуы\n",
      "Сwсzqевещтуут инседоливасе гоеяврщое о том что в саовлх ттксеа мнжоо првзьинолоо петсиетаврь бвкуы\n",
      "Сwсzqевещтуут инседоливасе гоеяврщое о том что в саовлх ттксеа мнжоо првзьинолоо петсиетаврь бвкуы\n",
      "Свщтуеqсуzеwт идсвлеоасние грвояощее о том что в солвах ткеста можно поозивлрьно прасетвеить буквы\n"
     ]
    }
   ],
   "source": [
    "#алгорит корректно работает только с unicode так как  что используемые\n",
    "#итерируемые переменные например слово(массив букв) должны оперировать с элементом символом\n",
    "#а не с элементом байтом как в случае со стандартным типом str\n",
    "#пример wrd[1:-1] список из букв слова без первой и последней. без unicode с кириллицей это не работает\n",
    "#поэтому если на вход функции попадает str - функция сама перекодирует входные данные в unicode\n",
    "\n",
    "#проверка\n",
    "text1 = 'Return a copy of the string with leading and trailing characters removed'\n",
    "text2 = 'Существует исследование говорящее о том что в словах текста можно произвольно переставить буквы'\n",
    "#для проверки условия: сортируются по алфавиту (латинские символы считаем меньше кириллических) \n",
    "#несколько латинских букв в середине первого слова\n",
    "text3 = 'Сzущеqствуеwт исследование говорящее о том что в словах текста можно произвольно переставить буквы'\n",
    "\n",
    "print text1\n",
    "print text_shuffle(unicode(text1, encoding='utf-8'))\n",
    "print text_shuffle(unicode(text1, encoding='utf-8'),1)\n",
    "print text_shuffle(unicode(text1, encoding='utf-8'),1)\n",
    "print text_shuffle(unicode(text1, encoding='utf-8'),2)\n",
    "print '==========================================='\n",
    "print text2\n",
    "print text_shuffle(text2)\n",
    "print text_shuffle(text2,1)\n",
    "print text_shuffle(text2,1)\n",
    "print text_shuffle(text2,3)\n",
    "print '==========================================='\n",
    "print text3\n",
    "print text_shuffle(unicode(text3, encoding='utf-8'))\n",
    "print text_shuffle(unicode(text3, encoding='utf-8'),1)\n",
    "print text_shuffle(unicode(text3, encoding='utf-8'),1)\n",
    "print text_shuffle(unicode(text3, encoding='utf-8'),2)\n",
    "\n"
   ]
  },
  {
   "cell_type": "markdown",
   "metadata": {},
   "source": [
    "## Задание 3.2\n",
    "\n",
    "Напишите функцию, которая читает два файла построчно (то есть не загружая всё содержимое в память), и записывает в выходной файл результат лексиграфического сравнение срочки из первого файла и из второго (First, Second и Equal по аналогии c предыдущим ДЗ)."
   ]
  },
  {
   "cell_type": "code",
   "execution_count": 73,
   "metadata": {
    "collapsed": true
   },
   "outputs": [],
   "source": [
    "import os\n",
    "#подготовливаем демонстрационные пути и файлы\n",
    "if not os.path.exists('testdir_3_2'):\n",
    "    os.mkdir('testdir_3_2')\n",
    "#1 и 2 тестовый файл рядом \n",
    "#aab ab\n",
    "#abd abc\n",
    "#aa abc\n",
    "#bc ''\n",
    "#' ' cb\n",
    "#aa aac\n",
    "#aac aa\n",
    "#zac вба\n",
    "#вба вба\n",
    "#вба ваб\n",
    "#вбаа ваб\n",
    "#aab ab\n",
    "#gt\n",
    "#t\n",
    "\n",
    "text = \"\"\"aab\n",
    "abd\n",
    "aa\n",
    "bc\n",
    " \n",
    "aa\n",
    "aac\n",
    "zac\n",
    "вба\n",
    "вба\n",
    "вбаа\n",
    "aab\n",
    "gt\n",
    "tt\n",
    "\"\"\"\n",
    "with open(os.path.join('testdir_3_2','f1.txt'), 'w') as f:\n",
    "    f.write(text)\n",
    "\n",
    "text = \"\"\"ab\n",
    "abc\n",
    "abc\n",
    "\n",
    "cb\n",
    "aac\n",
    "aa\n",
    "вба\n",
    "вба\n",
    "ваб\n",
    "ваб\n",
    "ab\n",
    "\"\"\"\n",
    "with open(os.path.join('testdir_3_2','f2.txt'), 'w') as f:\n",
    "    f.write(text)"
   ]
  },
  {
   "cell_type": "code",
   "execution_count": 74,
   "metadata": {
    "collapsed": false
   },
   "outputs": [],
   "source": [
    "#strcomp если первое зачение меньше вернет 'First', если второе, то 'Second', а если равны, то 'Equal'\n",
    "#кириллица больше латиницы, пустая строка менше любого символа, пробел меньше буквы\n",
    "#на вход ожидаем строки в unicode, но и с обычными будет работать из-за последовательной \n",
    "#двухбайтной кодировки кириллицы\n",
    "#главное чтобы типы str1 и str2 совпадали\n",
    "def strcomp(str1, str2):\n",
    "    if not type(str1) == type(str2): return 'Error'\n",
    "    #находим длинну меньшей строки\n",
    "    #пусть короче первая строка\n",
    "    num_comp = len(str1)\n",
    "    #если нет, то короче вторая\n",
    "    if len(str1) >= len(str2):\n",
    "        num_comp = len(str2)\n",
    "    #проверяем символы в пределах наименьшей длины - меньше та строка у которой меньше равный по индексу символ\n",
    "    for i in range(0,num_comp):\n",
    "        if str1[i]<str2[i]: return 'First'\n",
    "        elif str1[i]>str2[i]: return 'Second'\n",
    "    #если все символы в приделах наименьшей длинны равны - меньше та строка которая короче    \n",
    "    if len(str1) < len(str2): return 'First'\n",
    "    if len(str1) > len(str2): return 'Second'\n",
    "    #только если строки одинаковой длинны и равны все символы\n",
    "    return 'Equal'"
   ]
  },
  {
   "cell_type": "code",
   "execution_count": 75,
   "metadata": {
    "collapsed": false
   },
   "outputs": [
    {
     "name": "stdout",
     "output_type": "stream",
     "text": [
      "==========\n",
      "aac aac Equal\n",
      "==========\n",
      "aab ab First\n",
      "==========\n",
      "abd abc Second\n",
      "==========\n",
      "aa abcFirst\n",
      "==========\n",
      "aa aac First\n",
      "==========\n",
      "aac aa Second\n",
      "==========\n",
      "zac вба First\n",
      "==========\n",
      "вба вба Equal\n",
      "==========\n",
      "вба ваб Second\n",
      "==========\n",
      "вбаа ваб Second\n",
      "==========\n",
      "вбаа ваб Error\n",
      "==========\n",
      "'' ' ' First\n",
      "==========\n",
      "' ' '  ' First\n",
      "==========\n",
      "'  ' ' a' First\n",
      "==========\n",
      "'   ' ' a' First\n"
     ]
    }
   ],
   "source": [
    "#проверка stromp\n",
    "print '=========='\n",
    "print 'aac aac '+strcomp('aac','aac')\n",
    "print '=========='\n",
    "print 'aab ab '+strcomp('aab','ab')\n",
    "print '=========='\n",
    "print 'abd abc '+strcomp('abd','abc')\n",
    "print '=========='\n",
    "print 'aa abc'+strcomp('aa','abc')\n",
    "print '=========='\n",
    "print 'aa aac '+strcomp('aa','aac')\n",
    "print '=========='\n",
    "print 'aac aa '+strcomp('aac','aa')\n",
    "print '=========='\n",
    "print 'zac вба '+strcomp(u'zac',u'вба')\n",
    "print '=========='\n",
    "print 'вба вба '+strcomp(u'вба',u'вба')\n",
    "print '=========='\n",
    "print 'вба ваб '+strcomp('вба','ваб')\n",
    "print '=========='\n",
    "print 'вбаа ваб '+strcomp(u'вбаа',u'ваб')\n",
    "print '=========='\n",
    "print 'вбаа ваб '+strcomp(u'вбаа','ваб')\n",
    "print '=========='\n",
    "print '\\'\\' \\' \\' '+strcomp('',' ')\n",
    "print '=========='\n",
    "print '\\' \\' \\'  \\' '+strcomp(' ','  ')\n",
    "print '=========='\n",
    "print '\\'  \\' \\' a\\' '+strcomp('  ',' a')\n",
    "print '=========='\n",
    "print '\\'   \\' \\' a\\' '+strcomp('   ',' a')"
   ]
  },
  {
   "cell_type": "code",
   "execution_count": 77,
   "metadata": {
    "collapsed": false
   },
   "outputs": [],
   "source": [
    "import os\n",
    "#так как в параметрах функции нет параметра для кодировки, а корректно определить кодировку по тестовым строкам\n",
    "#вряд ли получится, считаем что файлы по умолчанию в кодировке utf-8 \n",
    "#в функцию strcomp передаем unicode для корректного посимвольного сравнения кириллицы\n",
    "def process(fst_source_path, snd_source_path, target_path):\n",
    "    #кодировка по умолчанию\n",
    "    encoding = 'utf-8'\n",
    "    #проверяем наличие исходнных файлов(и путей) если нет прекращаем работу\n",
    "    if (not os.path.exists(fst_source_path)) or (not os.path.exists(snd_source_path)):\n",
    "        return False\n",
    "    #проверяем наличие целевой папки, если нет создаем\n",
    "    if not os.path.exists(os.path.dirname(target_path)):\n",
    "        os.makedirs(os.path.dirname(target_path))\n",
    "    #запоминаем размеры файлов для построчечной обработки файлов разного размера\n",
    "    fst_sz = os.stat(fst_source_path).st_size\n",
    "    snd_sz = os.stat(snd_source_path).st_size\n",
    "    #массив для содержимого файла результата\n",
    "    lst = []\n",
    "    with open(fst_source_path, 'r') as fst:\n",
    "        with open(snd_source_path, 'r') as snd:\n",
    "            #пока не дошли до конца обоих файлов\n",
    "            while (fst.tell() < fst_sz) or (snd.tell() < snd_sz):\n",
    "                #читаем по одной строке из каждого файла если файл уже кончился - вернет пустую строку \n",
    "                #удаляем конец строки, пробелы оставляем, по их количесту тоже будем сравнивать/сортировать\n",
    "                fst_str = fst.readline().decode(encoding).strip('\\n')\n",
    "                snd_str = snd.readline().decode(encoding).strip('\\n')\n",
    "                #добавляем в список результат сравнения\n",
    "                lst.append(strcomp(fst_str,snd_str))\n",
    "    #сохраняем результат в файл\n",
    "    with open(target_path, 'w') as trg:\n",
    "        for res in lst: trg.write(res+'\\n')\n",
    "    return True"
   ]
  },
  {
   "cell_type": "code",
   "execution_count": 78,
   "metadata": {
    "collapsed": false
   },
   "outputs": [
    {
     "data": {
      "text/plain": [
       "True"
      ]
     },
     "execution_count": 78,
     "metadata": {},
     "output_type": "execute_result"
    }
   ],
   "source": [
    "process(os.path.join('testdir_3_2','f2.txt'),\n",
    "        os.path.join('testdir_3_2','f1.txt'),\n",
    "        os.path.join('testdir_3_2','res.txt'))"
   ]
  }
 ],
 "metadata": {
  "anaconda-cloud": {},
  "kernelspec": {
   "display_name": "Python 2",
   "language": "python",
   "name": "python2"
  },
  "language_info": {
   "codemirror_mode": {
    "name": "ipython",
    "version": 2
   },
   "file_extension": ".py",
   "mimetype": "text/x-python",
   "name": "python",
   "nbconvert_exporter": "python",
   "pygments_lexer": "ipython2",
   "version": "2.7.13"
  }
 },
 "nbformat": 4,
 "nbformat_minor": 2
}
