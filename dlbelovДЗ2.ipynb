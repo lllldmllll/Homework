{
 "cells": [
  {
   "cell_type": "markdown",
   "metadata": {},
   "source": [
    "# Базовая часть\n",
    "\n",
    "Рассмотрим задание 2 из лекции. При анализе отзывов на работу техподдержки вы считали массив из отзывов (для простоты отзыва приведено всего два, но могло быть и больше):\n"
   ]
  },
  {
   "cell_type": "code",
   "execution_count": 1,
   "metadata": {
    "collapsed": true
   },
   "outputs": [],
   "source": [
    "reviews = [\"\"\"Телефон абонента: +7 916 000 00 01\n",
    "Время: 10:34\n",
    "Дата: 20.05.2017\n",
    "Оценка: 1\n",
    "Длительность разговора (мин.): 0:32\n",
    "Комментарий: Общение с сотрудником вашей техподдержки мне не понравилось. Раньше всегда отвечала девушка с приятным голосом, а сегодня какой-то мужчина. Совсем никуда не годится, примите меры!!!\"\"\",\n",
    "\"\"\"Телефон абонента: +7 916 000 00 02\n",
    "Время: 9:20\n",
    "Дата: 21.05.2017\n",
    "Оценка: 5\n",
    "Длительность разговора (мин.): 25:07\n",
    "Комментарий: С моей проблемой мне помогли, большое спасибо!\"\"\"]"
   ]
  },
  {
   "cell_type": "markdown",
   "metadata": {},
   "source": [
    "Сформируйте на основе этого массива словарь my_base, в котором по ключу в виде строки с телефоном абонента будет храниться другой словарь. Внутренний словарь по ключам в виде названий полей отзыва должен хранить значение полей (в виде строк). Например, код ниже должен выдать True:"
   ]
  },
  {
   "cell_type": "code",
   "execution_count": null,
   "metadata": {
    "collapsed": true
   },
   "outputs": [],
   "source": [
    "my_base['+7 916 000 00 01']['Дата'] == '20.05.2017'"
   ]
  },
  {
   "cell_type": "markdown",
   "metadata": {},
   "source": [
    "Обратите внимание, что вам могут немного мешать пробелы после знаков \":\""
   ]
  },
  {
   "cell_type": "markdown",
   "metadata": {},
   "source": [
    "## Заполняем базу из массива"
   ]
  },
  {
   "cell_type": "code",
   "execution_count": 2,
   "metadata": {
    "collapsed": false
   },
   "outputs": [
    {
     "data": {
      "text/plain": [
       "True"
      ]
     },
     "execution_count": 2,
     "metadata": {},
     "output_type": "execute_result"
    }
   ],
   "source": [
    "#подготавливаем словарь\n",
    "my_base = {}\n",
    "#перебераем массив отзывов\n",
    "for review in reviews:\n",
    "    #каждый отзыв разбиваем на строки по \\n\n",
    "    line = review.split(\"\\n\")\n",
    "    #получаем номер абонента из первой строки\n",
    "    subscriber = line[0].split(\": \")\n",
    "    currentSubscriber = subscriber[1] \n",
    "    #готовим словарь параметров отзыва для каждого отзыва\n",
    "    sub = {}\n",
    "    #перебираем оставшиеся строки со второй\n",
    "    for curline in line[1:]:\n",
    "        #делим строку на индекс - значение\n",
    "        splitedline = curline.split(\": \")\n",
    "        #сохраняем в словаре параметров \n",
    "        sub[splitedline[0]] = splitedline[1] \n",
    "    #сохраняем в словаре абонентов верхнего уровня \n",
    "    my_base[currentSubscriber] = sub\n",
    "#требуемый результат\n",
    "my_base['+7 916 000 00 01']['Дата'] == '20.05.2017'"
   ]
  },
  {
   "cell_type": "markdown",
   "metadata": {},
   "source": [
    "## Проверка. Полный пербор содержимого"
   ]
  },
  {
   "cell_type": "code",
   "execution_count": 3,
   "metadata": {
    "collapsed": false
   },
   "outputs": [
    {
     "name": "stdout",
     "output_type": "stream",
     "text": [
      "['+7 916 000 00 02', '+7 916 000 00 01']\n",
      "+7 916 000 00 02\n",
      "<type 'dict'>\n",
      "Оценка->5\n",
      "<type 'str'>\n",
      "Время->9:20\n",
      "<type 'str'>\n",
      "Комментарий->С моей проблемой мне помогли, большое спасибо!\n",
      "<type 'str'>\n",
      "Дата->21.05.2017\n",
      "<type 'str'>\n",
      "Длительность разговора (мин.)->25:07\n",
      "<type 'str'>\n",
      "+7 916 000 00 01\n",
      "<type 'dict'>\n",
      "Оценка->1\n",
      "<type 'str'>\n",
      "Время->10:34\n",
      "<type 'str'>\n",
      "Комментарий->Общение с сотрудником вашей техподдержки мне не понравилось. Раньше всегда отвечала девушка с приятным голосом, а сегодня какой-то мужчина. Совсем никуда не годится, примите меры!!!\n",
      "<type 'str'>\n",
      "Дата->20.05.2017\n",
      "<type 'str'>\n",
      "Длительность разговора (мин.)->0:32\n",
      "<type 'str'>\n"
     ]
    }
   ],
   "source": [
    "print my_base.keys()\n",
    "\n",
    "for k1 in my_base:\n",
    "    print k1\n",
    "    print type(my_base[k1])\n",
    "    for k2 in my_base[k1]:\n",
    "            print k2+\"->\"+my_base[k1][k2]\n",
    "            print type(my_base[k1][k2])"
   ]
  },
  {
   "cell_type": "markdown",
   "metadata": {},
   "source": [
    "\n",
    "# Продвинутая часть\n",
    "\n",
    "Попробуйте выполнить предыдущее задание, но теперь обеспечив хранение полей из отзыва в словаре в тех типах данных, которые на ваш взгляд наиболее уместны. Подумайте, что делать с датой и временем. Возможно вам покажется полезным немного воспользоваться поисковиком или документацией к Python, а может быть вам хватит стандартных типов данных. Объясните свой выбор в комментариях к коду или markdown ячейках и продемонстрируйте, что поля имеют нужный тип.\n"
   ]
  },
  {
   "cell_type": "markdown",
   "metadata": {},
   "source": [
    "## Усовершенствования:)\n",
    "Предлагаю использовать тип datetime вместо строковых полей ‘Дата’ и ‘Время’.\n",
    "Это поможет использовать встроенное форматирование для даты/времени и другие операции такие, например как определение дельты времени между двумя событиями\n",
    "Кроме того, предлагаю использовать тип timedelta для длительности, для облегчения возможных операций с эти данными (например, если понадобится найти самые длинные разговоры)\n",
    "В словарь будут изначально помещаться все параметры, а если среди них есть параметры времени то старые элементы словаря будут извлекаться, а добавляться параметры более подходящих типов. Это сделает базу более устойчивой к изменению в форматах текстовых записей\n"
   ]
  },
  {
   "cell_type": "code",
   "execution_count": 4,
   "metadata": {
    "collapsed": false
   },
   "outputs": [
    {
     "data": {
      "text/plain": [
       "True"
      ]
     },
     "execution_count": 4,
     "metadata": {},
     "output_type": "execute_result"
    }
   ],
   "source": [
    "from datetime import datetime, timedelta\n",
    "#подготавливаем словарь\n",
    "my_base = {}\n",
    "#перебераем массив отзывов\n",
    "for review in reviews:\n",
    "    #каждый отзыв разбиваем на строки по \\n\n",
    "    line = review.split(\"\\n\")\n",
    "    #получаем номер абонента из первой строки\n",
    "    subscriber = line[0].split(\": \")\n",
    "    currentSubscriber = subscriber[1] \n",
    "    #словарь параметров отзыва\n",
    "    sub = {}\n",
    "    #перебираем оставшиеся строки со второй\n",
    "    for curline in line[1:]:\n",
    "        #делим строку на индекс - значение\n",
    "        splitedline = curline.split(\": \")\n",
    "        #сохраняем в словаре параметров \n",
    "        sub[splitedline[0]] = splitedline[1] \n",
    "    #после наполнения словаря меняем типы времени на более удобные, если есть таки ключи\n",
    "    strData = sub.get('Дата')\n",
    "    strTime = sub.get('Время')\n",
    "    if (strData!=None) and (strTime!=None):\n",
    "        arrD = strData.split(\".\")\n",
    "        arrT = strTime.split(\":\")\n",
    "        #проверка сплита\n",
    "        #print arrD[0]+\"-\"+arrD[1]+\"-\"+arrD[2]+\"-\"+arrT[0]+\"-\"+arrT[1]\n",
    "        dtDate = datetime(int(arrD[2]),int(arrD[1]),int(arrD[0]),int(arrT[0]),int(arrT[1]))\n",
    "        sub.pop('Дата')\n",
    "        sub.pop('Время')\n",
    "        sub['ДатаВремя'] = dtDate\n",
    "    #после наполнения словаря меняем тип длительности на более удобный, если есть таки ключи\n",
    "    strDelta = sub.get('Длительность разговора (мин.)')    \n",
    "    arrDelta = []\n",
    "    if (strDelta!=None):\n",
    "        arrDelta = strDelta.split(\":\")\n",
    "        #проверка сплита\n",
    "        #print arrDelta[0]+\"-\"+arrDelta[1]\n",
    "        dtDelta = timedelta(minutes=int(arrDelta[0]), seconds=int(arrDelta[1]))\n",
    "        sub.pop('Длительность разговора (мин.)')\n",
    "        sub['Длительность'] = dtDelta\n",
    "    #сохраняем в словаре абонентов верхнего уровня \n",
    "    my_base[currentSubscriber] = sub\n",
    "#прошлая проверка не работает так как таких ключей уже нет\n",
    "#my_base['+7 916 000 00 01']['Дата'] == '20.05.2017'\n",
    "my_base['+7 916 000 00 01']['ДатаВремя'] == datetime(2017,5,20,10,34)"
   ]
  },
  {
   "cell_type": "markdown",
   "metadata": {},
   "source": [
    "## Проверка. Полный пербор содержимого. Проверяем тип"
   ]
  },
  {
   "cell_type": "code",
   "execution_count": 6,
   "metadata": {
    "collapsed": false
   },
   "outputs": [
    {
     "name": "stdout",
     "output_type": "stream",
     "text": [
      "['+7 916 000 00 02', '+7 916 000 00 01']\n",
      "+7 916 000 00 02\n",
      "<type 'dict'>\n",
      "Оценка-> 5\n",
      "<type 'str'>\n",
      "Длительность-> 0:25:07\n",
      "<type 'datetime.timedelta'>\n",
      "ДатаВремя-> 2017-05-21 09:20:00\n",
      "<type 'datetime.datetime'>\n",
      "Комментарий-> С моей проблемой мне помогли, большое спасибо!\n",
      "<type 'str'>\n",
      "+7 916 000 00 01\n",
      "<type 'dict'>\n",
      "Оценка-> 1\n",
      "<type 'str'>\n",
      "Длительность-> 0:00:32\n",
      "<type 'datetime.timedelta'>\n",
      "ДатаВремя-> 2017-05-20 10:34:00\n",
      "<type 'datetime.datetime'>\n",
      "Комментарий-> Общение с сотрудником вашей техподдержки мне не понравилось. Раньше всегда отвечала девушка с приятным голосом, а сегодня какой-то мужчина. Совсем никуда не годится, примите меры!!!\n",
      "<type 'str'>\n"
     ]
    }
   ],
   "source": [
    "print my_base.keys()\n",
    "\n",
    "for k1 in my_base:\n",
    "    print k1\n",
    "    print type(my_base[k1])\n",
    "    for k2 in my_base[k1]:\n",
    "            print k2+\"->\",my_base[k1][k2]\n",
    "            print type(my_base[k1][k2])"
   ]
  },
  {
   "cell_type": "markdown",
   "metadata": {},
   "source": [
    "\n",
    "# Сложная часть\n",
    "\n",
    "На лекции было рассказано про неизменяемые типы, в частности про tuple. Подумайте, можно ли \"сломать\" неизменяемость tuple? Как сделать tuple изменяемым? Можно ли будет его добавить в множество или использовать в качестве ключа в словаре?\n"
   ]
  },
  {
   "cell_type": "code",
   "execution_count": 7,
   "metadata": {
    "collapsed": false
   },
   "outputs": [
    {
     "name": "stdout",
     "output_type": "stream",
     "text": [
      "исходный tuple\n",
      "(1, [2, 3])\n",
      "расширенный tuple\n",
      "(1, [2, 3, 4])\n",
      "исходный tuple\n",
      "([1], [2], [3])\n",
      "модифицированный tuple\n",
      "([1], [2], [4])\n",
      "set([3, 'elem', (1, 2, 3)])\n",
      "set([(2,), 3, 'elem', (1,), (4,)])\n",
      "<type 'tuple'>\n",
      "{((1,), (2,), (4,)): 4, 'key': 1, (1, 2, 3): 3}\n"
     ]
    }
   ],
   "source": [
    "#tuple не позволяет доблять элементы и изменять \n",
    "#но можно включить в tuple изменяемые элементы например списки\n",
    "#это поможет как расширять tuple так и менять существующие значения\n",
    "t = 1,[2,3]\n",
    "print \"исходный tuple\"\n",
    "print t\n",
    "#t.append(4)\n",
    "#TypeError: 'tuple' object does not support item assignment\n",
    "t[1].append(4)\n",
    "print \"расширенный tuple\"\n",
    "print t\n",
    "\n",
    "t2 = ([1,],[2,],[3,])\n",
    "print \"исходный tuple\"\n",
    "print t2\n",
    "#t2[2] = 4\n",
    "#TypeError: 'tuple' object does not support item assignment\n",
    "t2[2].pop()\n",
    "t2[2].append(4)\n",
    "print \"модифицированный tuple\"\n",
    "print t2\n",
    "\n",
    "#честный неизменяемы tuple\n",
    "t3 = (1,2,3)\n",
    "\n",
    "#использовать tuple который содержит список в множестве на прямую у меня не получилось\n",
    "#получилось только после явной пересборки tuple\n",
    "st1 = {\"elem\",t3,3}\n",
    "print st1\n",
    "#st2 = {\"elem\",t2,3}\n",
    "#TypeError: unhashable type: 'list'\n",
    "#print st2\n",
    "#st3 = {\"elem\",tuple(t2),3}\n",
    "#TypeError: unhashable type: 'list'\n",
    "#print st3\n",
    "st4 = {\"elem\",tuple(t2[0]),tuple(t2[1]),tuple(t2[2]),3}\n",
    "print st4\n",
    "\n",
    "#использовать tuple который содержит список в словаре на прямую у меня не получилось\n",
    "#получилось только после явной пересборки tuple\n",
    "dct = {}\n",
    "dct[\"key\"] = 1\n",
    "print type(t2)\n",
    "#dct[t2] = 2\n",
    "#TypeError: unhashable type: 'list'\n",
    "#dct[tuple(t2)] = 2\n",
    "#TypeError: unhashable type: 'list'\n",
    "dct[t3] = 3\n",
    "dct[(tuple(t2[0]),tuple(t2[1]),tuple(t2[2]))] = 4\n",
    "print dct"
   ]
  }
 ],
 "metadata": {
  "kernelspec": {
   "display_name": "Python 2",
   "language": "python",
   "name": "python2"
  },
  "language_info": {
   "codemirror_mode": {
    "name": "ipython",
    "version": 2
   },
   "file_extension": ".py",
   "mimetype": "text/x-python",
   "name": "python",
   "nbconvert_exporter": "python",
   "pygments_lexer": "ipython2",
   "version": "2.7.13"
  }
 },
 "nbformat": 4,
 "nbformat_minor": 2
}
